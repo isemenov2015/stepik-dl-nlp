{
  "nbformat": 4,
  "nbformat_minor": 0,
  "metadata": {
    "kernelspec": {
      "display_name": "Python 3",
      "language": "python",
      "name": "python3"
    },
    "language_info": {
      "codemirror_mode": {
        "name": "ipython",
        "version": 3
      },
      "file_extension": ".py",
      "mimetype": "text/x-python",
      "name": "python",
      "nbconvert_exporter": "python",
      "pygments_lexer": "ipython3",
      "version": "3.7.1"
    },
    "latex_envs": {
      "LaTeX_envs_menu_present": true,
      "autoclose": false,
      "autocomplete": true,
      "bibliofile": "biblio.bib",
      "cite_by": "apalike",
      "current_citInitial": 1,
      "eqLabelWithNumbers": true,
      "eqNumInitial": 1,
      "hotkeys": {
        "equation": "Ctrl-E",
        "itemize": "Ctrl-I"
      },
      "labels_anchors": false,
      "latex_user_defs": false,
      "report_style_numbering": false,
      "user_envs_cfg": false
    },
    "toc": {
      "base_numbering": 1,
      "nav_menu": {},
      "number_sections": true,
      "sideBar": true,
      "skip_h1_title": false,
      "title_cell": "Table of Contents",
      "title_sidebar": "Contents",
      "toc_cell": false,
      "toc_position": {},
      "toc_section_display": true,
      "toc_window_display": true
    },
    "colab": {
      "name": "task5_text_transformer.ipynb",
      "provenance": []
    }
  },
  "cells": [
    {
      "cell_type": "markdown",
      "metadata": {
        "id": "yLXypDOdLRcn",
        "colab_type": "text"
      },
      "source": [
        "# Transformer, Self-Attention и моделирование языка"
      ]
    },
    {
      "cell_type": "code",
      "metadata": {
        "ExecuteTime": {
          "end_time": "2019-11-05T18:27:04.225361Z",
          "start_time": "2019-11-05T18:27:04.223470Z"
        },
        "id": "czZzhzKYLRcr",
        "colab_type": "code",
        "colab": {
          "base_uri": "https://localhost:8080/",
          "height": 35
        },
        "outputId": "d5399bf0-9659-451a-8478-ffe92a61e7b4"
      },
      "source": [
        "# Если Вы запускаете ноутбук на colab,\n",
        "# выполните следующие строчки, чтобы подгрузить библиотеку dlnlputils:\n",
        "\n",
        "!git clone https://github.com/Samsung-IT-Academy/stepik-dl-nlp.git\n",
        "import sys; sys.path.append('/content/stepik-dl-nlp')"
      ],
      "execution_count": 10,
      "outputs": [
        {
          "output_type": "stream",
          "text": [
            "fatal: destination path 'stepik-dl-nlp' already exists and is not an empty directory.\n"
          ],
          "name": "stdout"
        }
      ]
    },
    {
      "cell_type": "code",
      "metadata": {
        "id": "iolpPp6dLuOv",
        "colab_type": "code",
        "colab": {
          "base_uri": "https://localhost:8080/",
          "height": 53
        },
        "outputId": "49d37992-981c-4c7e-9d86-e9b301bf7d89"
      },
      "source": [
        "!pip install youtokentome"
      ],
      "execution_count": 11,
      "outputs": [
        {
          "output_type": "stream",
          "text": [
            "Requirement already satisfied: youtokentome in /usr/local/lib/python3.6/dist-packages (1.0.6)\n",
            "Requirement already satisfied: Click>=7.0 in /usr/local/lib/python3.6/dist-packages (from youtokentome) (7.0)\n"
          ],
          "name": "stdout"
        }
      ]
    },
    {
      "cell_type": "code",
      "metadata": {
        "id": "TcrhVa1TL2lt",
        "colab_type": "code",
        "colab": {
          "base_uri": "https://localhost:8080/",
          "height": 341
        },
        "outputId": "73a18f57-b29f-4c27-fbf6-e64781f580b7"
      },
      "source": [
        "!pip install spacy_udpipe"
      ],
      "execution_count": 12,
      "outputs": [
        {
          "output_type": "stream",
          "text": [
            "Requirement already satisfied: spacy_udpipe in /usr/local/lib/python3.6/dist-packages (0.1.0)\n",
            "Requirement already satisfied: ufal.udpipe>=1.2.0 in /usr/local/lib/python3.6/dist-packages (from spacy_udpipe) (1.2.0.3)\n",
            "Requirement already satisfied: spacy>=2.1.0 in /usr/local/lib/python3.6/dist-packages (from spacy_udpipe) (2.1.9)\n",
            "Requirement already satisfied: murmurhash<1.1.0,>=0.28.0 in /usr/local/lib/python3.6/dist-packages (from spacy>=2.1.0->spacy_udpipe) (1.0.2)\n",
            "Requirement already satisfied: wasabi<1.1.0,>=0.2.0 in /usr/local/lib/python3.6/dist-packages (from spacy>=2.1.0->spacy_udpipe) (0.6.0)\n",
            "Requirement already satisfied: thinc<7.1.0,>=7.0.8 in /usr/local/lib/python3.6/dist-packages (from spacy>=2.1.0->spacy_udpipe) (7.0.8)\n",
            "Requirement already satisfied: plac<1.0.0,>=0.9.6 in /usr/local/lib/python3.6/dist-packages (from spacy>=2.1.0->spacy_udpipe) (0.9.6)\n",
            "Requirement already satisfied: numpy>=1.15.0 in /usr/local/lib/python3.6/dist-packages (from spacy>=2.1.0->spacy_udpipe) (1.17.5)\n",
            "Requirement already satisfied: requests<3.0.0,>=2.13.0 in /usr/local/lib/python3.6/dist-packages (from spacy>=2.1.0->spacy_udpipe) (2.21.0)\n",
            "Requirement already satisfied: srsly<1.1.0,>=0.0.6 in /usr/local/lib/python3.6/dist-packages (from spacy>=2.1.0->spacy_udpipe) (1.0.1)\n",
            "Requirement already satisfied: blis<0.3.0,>=0.2.2 in /usr/local/lib/python3.6/dist-packages (from spacy>=2.1.0->spacy_udpipe) (0.2.4)\n",
            "Requirement already satisfied: cymem<2.1.0,>=2.0.2 in /usr/local/lib/python3.6/dist-packages (from spacy>=2.1.0->spacy_udpipe) (2.0.3)\n",
            "Requirement already satisfied: preshed<2.1.0,>=2.0.1 in /usr/local/lib/python3.6/dist-packages (from spacy>=2.1.0->spacy_udpipe) (2.0.1)\n",
            "Requirement already satisfied: tqdm<5.0.0,>=4.10.0 in /usr/local/lib/python3.6/dist-packages (from thinc<7.1.0,>=7.0.8->spacy>=2.1.0->spacy_udpipe) (4.28.1)\n",
            "Requirement already satisfied: urllib3<1.25,>=1.21.1 in /usr/local/lib/python3.6/dist-packages (from requests<3.0.0,>=2.13.0->spacy>=2.1.0->spacy_udpipe) (1.24.3)\n",
            "Requirement already satisfied: idna<2.9,>=2.5 in /usr/local/lib/python3.6/dist-packages (from requests<3.0.0,>=2.13.0->spacy>=2.1.0->spacy_udpipe) (2.8)\n",
            "Requirement already satisfied: certifi>=2017.4.17 in /usr/local/lib/python3.6/dist-packages (from requests<3.0.0,>=2.13.0->spacy>=2.1.0->spacy_udpipe) (2019.11.28)\n",
            "Requirement already satisfied: chardet<3.1.0,>=3.0.2 in /usr/local/lib/python3.6/dist-packages (from requests<3.0.0,>=2.13.0->spacy>=2.1.0->spacy_udpipe) (3.0.4)\n"
          ],
          "name": "stdout"
        }
      ]
    },
    {
      "cell_type": "code",
      "metadata": {
        "ExecuteTime": {
          "end_time": "2019-11-05T18:27:53.780539Z",
          "start_time": "2019-11-05T18:27:52.444607Z"
        },
        "id": "aIRjE7yeLRcy",
        "colab_type": "code",
        "colab": {
          "base_uri": "https://localhost:8080/",
          "height": 53
        },
        "outputId": "1825ff29-cdbb-4422-93c4-42de2765e970"
      },
      "source": [
        "%load_ext autoreload\n",
        "%autoreload 2\n",
        "\n",
        "import warnings\n",
        "warnings.filterwarnings('ignore')\n",
        "\n",
        "import matplotlib.pyplot as plt\n",
        "%matplotlib inline\n",
        "\n",
        "import numpy as np\n",
        "\n",
        "import torch\n",
        "from torch import nn\n",
        "from torch.nn import functional as F\n",
        "\n",
        "import youtokentome as yttm\n",
        "\n",
        "import dlnlputils\n",
        "from dlnlputils.data import tokenize_corpus, build_vocabulary, \\\n",
        "    save_texts_to_file, LanguageModelDataset, load_war_and_piece_chunks, \\\n",
        "    GreedyGenerator, BeamGenerator\n",
        "from dlnlputils.pipeline import train_eval_loop, init_random_seed\n",
        "from dlnlputils.base import get_params_number\n",
        "\n",
        "init_random_seed()"
      ],
      "execution_count": 13,
      "outputs": [
        {
          "output_type": "stream",
          "text": [
            "The autoreload extension is already loaded. To reload it, use:\n",
            "  %reload_ext autoreload\n"
          ],
          "name": "stdout"
        }
      ]
    },
    {
      "cell_type": "markdown",
      "metadata": {
        "id": "SsuANqluLRc5",
        "colab_type": "text"
      },
      "source": [
        "## Загрузка текстов и разбиение на обучающую и тестовую подвыборки"
      ]
    },
    {
      "cell_type": "code",
      "metadata": {
        "ExecuteTime": {
          "end_time": "2019-11-05T18:27:55.233798Z",
          "start_time": "2019-11-05T18:27:55.197616Z"
        },
        "id": "g3zunruYLRc7",
        "colab_type": "code",
        "colab": {
          "base_uri": "https://localhost:8080/",
          "height": 35
        },
        "outputId": "9a8ce0dc-2d23-4125-a6c3-34a4bdafacac"
      },
      "source": [
        "# Если Вы запускаете ноутбук на colab, добавьте в начало пути /content/stepik-dl-nlp\n",
        "all_chunks = load_war_and_piece_chunks('/content/stepik-dl-nlp/datasets/war_and_peace.txt')\n",
        "len(all_chunks)"
      ],
      "execution_count": 14,
      "outputs": [
        {
          "output_type": "execute_result",
          "data": {
            "text/plain": [
              "7976"
            ]
          },
          "metadata": {
            "tags": []
          },
          "execution_count": 14
        }
      ]
    },
    {
      "cell_type": "code",
      "metadata": {
        "ExecuteTime": {
          "end_time": "2019-11-05T18:27:55.402080Z",
          "start_time": "2019-11-05T18:27:55.379575Z"
        },
        "id": "w9U13Td9LRdC",
        "colab_type": "code",
        "colab": {
          "base_uri": "https://localhost:8080/",
          "height": 89
        },
        "outputId": "a3e50cf5-ba68-488d-ab8b-015219dadcb2"
      },
      "source": [
        "print(all_chunks[10])"
      ],
      "execution_count": 15,
      "outputs": [
        {
          "output_type": "stream",
          "text": [
            "у нее был грипп, как она говорила (грипп был тогда новое\n",
            "слово, употреблявшееся только редкими). В записочках, разосланных утром с\n",
            "красным лакеем, было написано без различия во всех:\n",
            "  \"Si vous n'avez\n"
          ],
          "name": "stdout"
        }
      ]
    },
    {
      "cell_type": "code",
      "metadata": {
        "ExecuteTime": {
          "end_time": "2019-11-05T18:27:55.954154Z",
          "start_time": "2019-11-05T18:27:55.919185Z"
        },
        "id": "PuSiOjBOLRdH",
        "colab_type": "code",
        "colab": {
          "base_uri": "https://localhost:8080/",
          "height": 53
        },
        "outputId": "16f6a30f-3607-4a66-9f48-64ef3e0c1392"
      },
      "source": [
        "np.random.shuffle(all_chunks)\n",
        "\n",
        "TRAIN_SPLIT = int(len(all_chunks) * 0.7)\n",
        "train_texts = all_chunks[:TRAIN_SPLIT]\n",
        "test_texts = all_chunks[TRAIN_SPLIT:]\n",
        "\n",
        "print('Размер обучающей выборки', len(train_texts))\n",
        "print('Размер валидационной выборки', len(test_texts))"
      ],
      "execution_count": 16,
      "outputs": [
        {
          "output_type": "stream",
          "text": [
            "Размер обучающей выборки 5583\n",
            "Размер валидационной выборки 2393\n"
          ],
          "name": "stdout"
        }
      ]
    },
    {
      "cell_type": "markdown",
      "metadata": {
        "id": "3HKxM2g5LRdQ",
        "colab_type": "text"
      },
      "source": [
        "## Токенизация корпуса с помощью BPE\n",
        "\n",
        "BPE - Byte Pair Encoding\n",
        "\n",
        "YouTokenToMe - быстрая реализация BPE"
      ]
    },
    {
      "cell_type": "code",
      "metadata": {
        "ExecuteTime": {
          "end_time": "2019-11-05T18:27:56.412237Z",
          "start_time": "2019-11-05T18:27:56.386089Z"
        },
        "id": "2aG61OwsLRdS",
        "colab_type": "code",
        "colab": {}
      },
      "source": [
        "# Если Вы запускаете ноутбук на colab, добавьте в начало пути /content/stepik-dl-nlp\n",
        "BPE_MODEL_FILENAME = '/content/stepik-dl-nlp/models/war_and_peace_bpe.yttm'"
      ],
      "execution_count": 0,
      "outputs": []
    },
    {
      "cell_type": "code",
      "metadata": {
        "ExecuteTime": {
          "end_time": "2019-11-05T18:27:56.928780Z",
          "start_time": "2019-11-05T18:27:56.696400Z"
        },
        "id": "ZXz2E0PQLRdY",
        "colab_type": "code",
        "colab": {}
      },
      "source": [
        "# Если Вы запускаете ноутбук на colab, добавьте в начало пути /content/stepik-dl-nlp\n",
        "TRAIN_TEXTS_FILENAME = '/content/stepik-dl-nlp/datasets/war_and_peace_bpe_train.txt'\n",
        "save_texts_to_file(train_texts, TRAIN_TEXTS_FILENAME)\n",
        "yttm.BPE.train(data=TRAIN_TEXTS_FILENAME, vocab_size=1000, model=BPE_MODEL_FILENAME);"
      ],
      "execution_count": 0,
      "outputs": []
    },
    {
      "cell_type": "code",
      "metadata": {
        "ExecuteTime": {
          "end_time": "2019-11-05T18:27:57.767294Z",
          "start_time": "2019-11-05T18:27:57.731252Z"
        },
        "id": "Zf_FxOstLRde",
        "colab_type": "code",
        "colab": {}
      },
      "source": [
        "tokenizer = yttm.BPE(BPE_MODEL_FILENAME)"
      ],
      "execution_count": 0,
      "outputs": []
    },
    {
      "cell_type": "code",
      "metadata": {
        "ExecuteTime": {
          "end_time": "2019-11-05T18:27:57.897826Z",
          "start_time": "2019-11-05T18:27:57.874631Z"
        },
        "id": "ObW8DM8DLRdk",
        "colab_type": "code",
        "colab": {
          "base_uri": "https://localhost:8080/",
          "height": 55
        },
        "outputId": "b5a69940-91c4-4489-cdb7-f6a52da56bb7"
      },
      "source": [
        "print(' '.join(tokenizer.vocab()))"
      ],
      "execution_count": 20,
      "outputs": [
        {
          "output_type": "stream",
          "text": [
            "<PAD> <UNK> <BOS> <EOS> ▁ о а е и н т с л р в к , д м у п я г ь ы з б . ч й - ж ш e х ю s ц a n r i u o t щ э П l Н ф А В m d c О ? ! К Д Б p М v Р \" ) С ( ' ; И Т ё 1 h : Я 2 q f Г ъ b g Ч Э 0 3 Е 5 ] [ j 4 I z Л З 6 8 M A 9 7 У Ж V L x X Ф Ш y C Х J B P D E N S k Ц R Q O T ` w Ю H U F G K Ь W Й * & # Щ Z / ▁с ▁п ▁в ▁н то ▁о ▁и ▁к го ал ра ст но ▁- ▁по ен ▁д ер ел ▁б ро ▁не ко во ка ▁ч ▁м ри ▁на ло ть на ли ла ▁з ▁е ▁у ▁т ре ва ни ся сь ак ▁что ру ет ▁ко ▁бы ми ны ня да ▁то ди хо ▁за ▁го ем ▁г ▁он ол ени ▁от ки ви ну каз е, ▁э та ▁П ти ши ▁при ▁вы ▁ра му ▁Н ▁ж ов ▁вс ле ▁А до ▁В ▁про ▁мо ля ▁как мо ▁во казал ры ▁его ма ▁об сто ▁это ль й, ▁сказал ере не ▁а ▁до ▁О ▁я ▁К ▁кото ▁сво ▁кня ▁Д м, у, ше ▁Б али по чи ▁но сти ▁ни си ча ста ель ▁из ве лу ала де ▁Ан вори ▁М ▁под ▁ка ▁d .. ша ... за ска жи ще es я, лся ▁со че лы зь сть ско ou ▁ли ▁хо ▁ви ▁ст ень ▁ру ря енно ▁Пь ▁так ме ты ▁p ▁Р ги га дел лю сно re же ▁раз ▁( со те ду ку ▁се ски ▁c ▁С ▁ва вши ▁все тель бе en вал ▁l ▁дру ▁было ▁И on ▁говори ▁пос гда ту ▁сто ели щи ать лько ▁бу вы ▁Пьер ▁пере ▁Ро дре ▁ему ▁Т дно ▁пре ▁Андре ▁a вер ю, би ство ез ▁са ▁ф вая ▁Росто ▁Он ▁зна ар сп ▁она ▁которы а, ▁сп ▁m ▁был ▁же ▁всё ▁гла чал сь, бо ды ▁ми ▁те ву й. ▁ду er жени ▁голо х, ▁ве ▁(сно ▁князь ▁(сноска шел фи ба ▁лю ▁ста мот бы ▁лиц ▁бол ▁вз ▁На е. жа кой ▁Бо ть, ело ▁та енны ▁de ▁Я в, et го, нц ми, ▁s -то елов ai ▁си ало ▁да ▁гра ▁только т, ела гля ▁свое ▁ш ▁1 ▁оп м. ться ходи ▁буд qu са ха ▁которо жно ▁v гу ▁\" лов ▁ты шь ous ера ▁улы тельно ▁Кня ▁ее ▁еще ▁рас ▁n рем ▁ро вно ▁ме ▁Г к, пи ный нно ▁ре ▁пол ▁обра ▁им ▁qu ▁свои я. дь елове ▁и, жал фиц ясь ным ерь ▁челове ▁глаза оло ▁оста ▁Дени сов дя an ▁По ▁себ ▁слу па ▁ле ▁жи ▁боль су ▁для ▁ц ▁чу ка, ▁сказала ять ался аль e, ет, вля ▁Не рел ▁ло на, нул ▁Ч ▁ма лась бу ▁Э ▁t ман ей ▁была роси ▁него ск нцу ▁после гра ▁были ▁Ростов мы ▁эти ▁мне ▁сол ▁Андрей ▁офиц ▁врем ща ех ▁княз ▁х ▁бо ▁пер ▁говорил и, ri ▁он, нима ств ▁Е ▁мог ранцу ▁ком те, сту вать ▁дол н, le ят лись ▁бе ▁граф ▁Князь чень ▁вер ▁Доло ные шо ▁мы ▁сло ▁лицо ▁исп ▁[ ▁Долохо ва, чно ему ▁улыб ▁сдел ▁му ▁ча вор ▁пред ▁одно te ▁f зи перь ▁моло ▁2 ▁солда ▁мен руг ▁комна ▁смот нулся ца eu жет ения ▁et вет нов ражени ▁когда oi чего ▁стра ▁чтобы ▁Денисов ▁Ни ю. казы ▁хот ▁pa ки, зы ▁уже ▁кра ▁они ▁ба ▁хоро ались ком ного ▁Ва ▁пи вше дин ав се вст ▁друго ▁очень спо ▁францу ков лен ▁будто ▁вас ▁су ал, ▁княж ▁Ми ▁Но зна х. ▁который om ▁ту ▁перед ▁отве том нт ▁пра об ne ▁Ку est ▁од ▁пу ▁Она ▁Анна нови ▁теперь ▁опять ▁сов ная говори ▁Л ▁этого ▁де ▁Ната ▁vous ▁поло ▁стоя арь зов ▁гу ▁que ▁j ющи вой ▁воз ▁себя ной вство ных ение ▁дел ▁жен ем, нь ▁Что ▁мину стви ▁спроси ▁З дет ▁офицер ent ский ▁этот ку, ▁то, ▁кри ▁Марь лыш ▁ар ▁вп ▁ожи ▁ку зо ния ▁Во дол ми. ▁la ▁ch ▁le ▁Нико ▁поч ную ▁двер ▁подо ▁обе ▁коман сили ▁или ке л, ▁Это me ▁неп жели ▁вой у. ▁чем сте му, ние ют мал ▁ла ▁нес ▁разго ▁Мо вали is ▁Вы енер ▁Миха ▁взгля ▁которые ▁зак ▁сы il дар ▁меня он стро ▁M ую кры ее ▁продол ▁мал сы ▁пла вший кон ▁ничего друг ва. ▁Ба ▁Михай ▁сле ром жен ▁огля ▁види ▁дело ▁Бори ▁ша стоя ров ▁быть но, ся, ▁зам воль ▁Со our ▁себе пра ского ▁Никола ▁Куту кая ▁без казать ▁время ными вала in ▁друг на. ▁обрати ▁Как ▁что-то ▁Ну, ▁чи кий лаго ▁князя вл ▁их ▁Пав ▁сер ▁своего ▁вес ▁вот ▁Михайлов соб рая ▁бра ▁че ▁всех ниц ▁нас ▁жиз ais ▁свою ехал ▁Ко ▁каз ▁само кра ▁он. д, про ▁тем ▁молодо сколько ▁u ▁b ▁A ere дер ▁пе ▁команди вшись ▁останови ▁лоша сты ▁взя ▁генер ра, стно да, ▁доро us жд ▁может ▁Да ▁сидел ▁сторо ▁надо юще ▁тре ть. чь ▁ну ▁чувство ▁госу ▁Пьера ▁мол ▁малень ▁Наташа кое им ▁вдруг it ▁l' ли, мер ▁Багра вого ▁л ним ▁непри ▁други ▁спросил ▁будет ▁пото и. ▁своей ▁княги кого ez ▁Баграти ▁доб ▁па ▁люб жала ▁Ж пу ▁расс ▁арми ▁рука лось ▁Павлов ▁Васили ▁ок ▁видел ▁У оль дом ▁впере ▁начал ▁особ ▁где кто тер ▁вст шь, ▁сча ▁бле дал ▁mon жду ▁сме ▁прои ливо ▁вам ерез 'est вя ▁мой ▁Ту ▁рус ▁день ▁ши ▁ди ственно ▁g дро ▁улыба ▁дума ку. ▁лу ▁3 ▁кре ▁его. ете виц каза стя шая ▁отвечал ▁всегда цо ▁com ch ▁Пьер, ▁ско res шла жу ▁более ▁выражени ▁есть ны, ской ▁благо гла тя ▁сам ▁того, ▁вели ▁спо елы та, ▁сла ы,\n"
          ],
          "name": "stdout"
        }
      ]
    },
    {
      "cell_type": "code",
      "metadata": {
        "ExecuteTime": {
          "end_time": "2019-11-05T18:27:58.100551Z",
          "start_time": "2019-11-05T18:27:58.075268Z"
        },
        "scrolled": false,
        "id": "Cw47A0TqLRdq",
        "colab_type": "code",
        "colab": {
          "base_uri": "https://localhost:8080/",
          "height": 55
        },
        "outputId": "7dd4c691-cdab-4530-b12c-cf7c11a4784c"
      },
      "source": [
        "print(tokenizer.encode(train_texts[:1]))"
      ],
      "execution_count": 21,
      "outputs": [
        {
          "output_type": "stream",
          "text": [
            "[[210, 238, 244, 13, 317, 16, 147, 200, 12, 265, 35, 161, 337, 490, 203, 269, 447, 4, 111, 111, 96, 27, 415, 148, 176, 551, 201, 726, 199, 161, 848, 889, 772, 23, 16, 690, 179, 585, 18, 154, 412, 19, 382, 157, 186, 635, 10, 518, 774, 363, 670, 157, 793, 37, 7, 426, 791, 186, 635, 10, 518, 774, 650, 25, 988, 206, 186, 13, 201, 8, 149, 474, 17, 275, 31, 23, 8, 34, 444]]\n"
          ],
          "name": "stdout"
        }
      ]
    },
    {
      "cell_type": "code",
      "metadata": {
        "ExecuteTime": {
          "end_time": "2019-11-05T18:27:59.729717Z",
          "start_time": "2019-11-05T18:27:59.551045Z"
        },
        "id": "k8hODCsXLRdv",
        "colab_type": "code",
        "colab": {}
      },
      "source": [
        "train_token_ids = tokenizer.encode(train_texts, bos=True, eos=True)\n",
        "test_token_ids = tokenizer.encode(test_texts, bos=True, eos=True)"
      ],
      "execution_count": 0,
      "outputs": []
    },
    {
      "cell_type": "code",
      "metadata": {
        "ExecuteTime": {
          "end_time": "2019-11-05T18:28:00.401753Z",
          "start_time": "2019-11-05T18:27:59.731680Z"
        },
        "id": "7ET_epn7LRd0",
        "colab_type": "code",
        "colab": {
          "base_uri": "https://localhost:8080/",
          "height": 281
        },
        "outputId": "ae1ad8bd-9b29-415c-e0ed-4b59512a88a8"
      },
      "source": [
        "plt.hist([len(sent) for sent in train_token_ids], bins=30)\n",
        "plt.title('Распределение длин фрагментов в токенах')\n",
        "plt.yscale('log');"
      ],
      "execution_count": 23,
      "outputs": [
        {
          "output_type": "display_data",
          "data": {
            "image/png": "[encoded data removed]",
            "text/plain": [
              "<Figure size 432x288 with 1 Axes>"
            ]
          },
          "metadata": {
            "tags": []
          }
        }
      ]
    },
    {
      "cell_type": "code",
      "metadata": {
        "ExecuteTime": {
          "end_time": "2019-11-05T18:28:01.153867Z",
          "start_time": "2019-11-05T18:28:00.404320Z"
        },
        "id": "qGqrTt5rLRd5",
        "colab_type": "code",
        "colab": {
          "base_uri": "https://localhost:8080/",
          "height": 281
        },
        "outputId": "8ffad085-bbc4-436e-e206-f7b13746d42b"
      },
      "source": [
        "token_counts = np.bincount([token_id for text in train_token_ids for token_id in text])\n",
        "plt.hist(token_counts, bins=100)\n",
        "plt.title('Распределение количества упоминаний токенов')\n",
        "plt.yscale('log');"
      ],
      "execution_count": 24,
      "outputs": [
        {
          "output_type": "display_data",
          "data": {
            "image/png": "[encoded data removed]",
            "text/plain": [
              "<Figure size 432x288 with 1 Axes>"
            ]
          },
          "metadata": {
            "tags": []
          }
        }
      ]
    },
    {
      "cell_type": "code",
      "metadata": {
        "ExecuteTime": {
          "end_time": "2019-11-05T18:28:01.204527Z",
          "start_time": "2019-11-05T18:28:01.156884Z"
        },
        "id": "uBnbU81xLRd-",
        "colab_type": "code",
        "colab": {
          "base_uri": "https://localhost:8080/",
          "height": 35
        },
        "outputId": "9b44c599-75cb-4ca8-c902-215b499940b5"
      },
      "source": [
        "unknown_subwords_in_test = sum(1 for text in test_token_ids for token_id in text if token_id == 1)\n",
        "print('Количество случаев с неизвестными n-граммами символов в валидационной выборке',\n",
        "      unknown_subwords_in_test)"
      ],
      "execution_count": 25,
      "outputs": [
        {
          "output_type": "stream",
          "text": [
            "Количество случаев с неизвестными n-граммами символов в валидационной выборке 0\n"
          ],
          "name": "stdout"
        }
      ]
    },
    {
      "cell_type": "markdown",
      "metadata": {
        "id": "aHXaXI6uLReD",
        "colab_type": "text"
      },
      "source": [
        "## Подготовка датасетов для PyTorch"
      ]
    },
    {
      "cell_type": "code",
      "metadata": {
        "ExecuteTime": {
          "end_time": "2019-11-05T18:28:02.980335Z",
          "start_time": "2019-11-05T18:28:02.938616Z"
        },
        "id": "GmymiiAbLReF",
        "colab_type": "code",
        "colab": {}
      },
      "source": [
        "CHUNK_LENGTH = 80\n",
        "\n",
        "train_dataset = LanguageModelDataset(train_token_ids,\n",
        "                                     chunk_length=CHUNK_LENGTH)\n",
        "test_dataset = LanguageModelDataset(test_token_ids,\n",
        "                                    chunk_length=CHUNK_LENGTH)"
      ],
      "execution_count": 0,
      "outputs": []
    },
    {
      "cell_type": "code",
      "metadata": {
        "ExecuteTime": {
          "end_time": "2019-11-05T18:28:03.085890Z",
          "start_time": "2019-11-05T18:28:03.061652Z"
        },
        "scrolled": false,
        "id": "M2yS7I8PLReJ",
        "colab_type": "code",
        "colab": {}
      },
      "source": [
        "train_dataset[0]"
      ],
      "execution_count": 0,
      "outputs": []
    },
    {
      "cell_type": "code",
      "metadata": {
        "ExecuteTime": {
          "end_time": "2019-11-05T18:28:03.260915Z",
          "start_time": "2019-11-05T18:28:03.219571Z"
        },
        "id": "W5D-Y8UnLReN",
        "colab_type": "code",
        "colab": {}
      },
      "source": [
        "tokenizer.decode(list(train_dataset[0]))"
      ],
      "execution_count": 0,
      "outputs": []
    },
    {
      "cell_type": "markdown",
      "metadata": {
        "id": "N0QF5i8cLReR",
        "colab_type": "text"
      },
      "source": [
        "## Общие классы и функции"
      ]
    },
    {
      "cell_type": "markdown",
      "metadata": {
        "id": "wXlpZmxtLReT",
        "colab_type": "text"
      },
      "source": [
        "### Маска зависимостей"
      ]
    },
    {
      "cell_type": "code",
      "metadata": {
        "ExecuteTime": {
          "end_time": "2019-11-05T18:28:04.302365Z",
          "start_time": "2019-11-05T18:28:04.244547Z"
        },
        "id": "Wuvyqf2oLReU",
        "colab_type": "code",
        "colab": {}
      },
      "source": [
        "def make_target_dependency_mask(length):\n",
        "    full_mask = torch.ones(length, length)\n",
        "    ignore_mask = torch.tril(full_mask) < 1\n",
        "    full_mask.masked_fill_(ignore_mask, float('-inf'))\n",
        "    full_mask.masked_fill_(~ignore_mask, 0)\n",
        "    return full_mask\n",
        "\n",
        "make_target_dependency_mask(10)"
      ],
      "execution_count": 0,
      "outputs": []
    },
    {
      "cell_type": "markdown",
      "metadata": {
        "id": "4t20P4AALReY",
        "colab_type": "text"
      },
      "source": [
        "### Кодирование позиции"
      ]
    },
    {
      "cell_type": "code",
      "metadata": {
        "ExecuteTime": {
          "end_time": "2019-11-05T18:28:05.590059Z",
          "start_time": "2019-11-05T18:28:05.567602Z"
        },
        "id": "J9YqQQCeLRea",
        "colab_type": "code",
        "colab": {}
      },
      "source": [
        "def make_positional_encoding(max_length, embedding_size):\n",
        "    time = np.pi * torch.arange(0, max_length).float()\n",
        "    freq_dividers = torch.arange(1, embedding_size // 2 + 1).float()\n",
        "    inputs = time[:, None] / freq_dividers[None, :]\n",
        "    \n",
        "    result = torch.zeros(max_length, embedding_size)\n",
        "    result[:, 0::2] = torch.sin(inputs)\n",
        "    result[:, 1::2] = torch.cos(inputs)\n",
        "    return result"
      ],
      "execution_count": 0,
      "outputs": []
    },
    {
      "cell_type": "code",
      "metadata": {
        "ExecuteTime": {
          "end_time": "2019-11-05T18:28:06.060293Z",
          "start_time": "2019-11-05T18:28:05.708626Z"
        },
        "id": "y6qRdj7TLRee",
        "colab_type": "code",
        "colab": {}
      },
      "source": [
        "sample_pos_codes = make_positional_encoding(30, 30)\n",
        "plt.plot(sample_pos_codes[:, ::3].numpy());\n",
        "plt.gcf().set_size_inches((15, 5))"
      ],
      "execution_count": 0,
      "outputs": []
    },
    {
      "cell_type": "markdown",
      "metadata": {
        "id": "69rp3daQLRej",
        "colab_type": "text"
      },
      "source": [
        "### Основной класс - языковая модель"
      ]
    },
    {
      "cell_type": "code",
      "metadata": {
        "ExecuteTime": {
          "end_time": "2019-11-05T18:28:07.079279Z",
          "start_time": "2019-11-05T18:28:07.031056Z"
        },
        "id": "WzhWlOneLRel",
        "colab_type": "code",
        "colab": {}
      },
      "source": [
        "class LanguageModel(nn.Module):\n",
        "    def __init__(self, vocab_size, embedding_size, backbone, emb_dropout=0.0):\n",
        "        super().__init__()\n",
        "        self.embedding_size = embedding_size\n",
        "        self.embeddings = nn.Embedding(vocab_size, embedding_size, padding_idx=0)\n",
        "        self.emb_dropout = nn.Dropout(emb_dropout)\n",
        "        self.backbone = backbone\n",
        "        self.out = nn.Linear(embedding_size, vocab_size)\n",
        "    \n",
        "    def forward(self, seed_token_ids):\n",
        "        \"\"\"\n",
        "            seed_token_ids - BatchSize x MaxInLen\n",
        "        \"\"\"\n",
        "        batch_size, max_in_length = seed_token_ids.shape\n",
        "\n",
        "        seed_padding_mask = seed_token_ids == 0\n",
        "        dependency_mask = make_target_dependency_mask(max_in_length) \\\n",
        "            .to(seed_token_ids.device)\n",
        "        \n",
        "        seed_embs = self.embeddings(seed_token_ids)  # BatchSize x MaxInLen x EmbSize\n",
        "        pos_codes = make_positional_encoding(max_in_length,\n",
        "                                             self.embedding_size).unsqueeze(0).to(seed_embs.device)\n",
        "        seed_embs = seed_embs + pos_codes\n",
        "        seed_embs = self.emb_dropout(seed_embs)\n",
        "\n",
        "        # BatchSize x TargetLen x EmbSize\n",
        "        target_features = seed_embs\n",
        "        target_features = self.backbone(seed_embs,\n",
        "                                        mask=dependency_mask,\n",
        "                                        src_key_padding_mask=seed_padding_mask)\n",
        "        logits = self.out(target_features)  # BatchSize x TargetLen x VocabSize\n",
        "        return logits"
      ],
      "execution_count": 0,
      "outputs": []
    },
    {
      "cell_type": "markdown",
      "metadata": {
        "id": "NrSzzPz5LRep",
        "colab_type": "text"
      },
      "source": [
        "### Утилиты для обучения - функция потерь и расписание изменения длины градиентного шага"
      ]
    },
    {
      "cell_type": "code",
      "metadata": {
        "ExecuteTime": {
          "end_time": "2019-11-05T18:28:07.797230Z",
          "start_time": "2019-11-05T18:28:07.774142Z"
        },
        "id": "ALyvpIhRLReq",
        "colab_type": "code",
        "colab": {}
      },
      "source": [
        "def lm_cross_entropy(pred, target):\n",
        "    \"\"\"\n",
        "    pred - BatchSize x TargetLen x VocabSize\n",
        "    target - BatchSize x TargetLen\n",
        "    \"\"\"\n",
        "    pred_flat = pred.view(-1, pred.shape[-1])  # BatchSize*TargetLen x VocabSize\n",
        "    target_flat = target.view(-1)  # BatchSize*TargetLen\n",
        "    return F.cross_entropy(pred_flat, target_flat, ignore_index=0)\n",
        "\n",
        "\n",
        "def lr_scheduler(optimizer):\n",
        "    return torch.optim.lr_scheduler.ReduceLROnPlateau(optimizer,\n",
        "                                                      patience=20,\n",
        "                                                      factor=0.5,\n",
        "                                                      verbose=True)"
      ],
      "execution_count": 0,
      "outputs": []
    },
    {
      "cell_type": "markdown",
      "metadata": {
        "id": "IXEIozWrLRev",
        "colab_type": "text"
      },
      "source": [
        "## Реализация Transformer из PyTorch 1.2"
      ]
    },
    {
      "cell_type": "code",
      "metadata": {
        "ExecuteTime": {
          "end_time": "2019-11-05T18:28:09.401017Z",
          "start_time": "2019-11-05T18:28:09.365637Z"
        },
        "id": "owgcGaKPLRew",
        "colab_type": "code",
        "colab": {}
      },
      "source": [
        "class BatchFirstTransformerEncoder(nn.Module):\n",
        "    def __init__(self, *args, **kwargs):\n",
        "        super().__init__()\n",
        "        self.impl = nn.TransformerEncoder(*args, **kwargs)\n",
        "        self.initialize_weights()\n",
        "    \n",
        "    def forward(self, src, *args, **kwargs):\n",
        "        src = src.transpose(0, 1).contiguous()  # MaxInLen  x BatchSize x EmbSize\n",
        "        result = self.impl(src, *args, **kwargs)  # TargetLen x BatchSize x EmbSize\n",
        "        result = result.transpose(0, 1).contiguous()  # BatchSize x TargetLen x EmbSize\n",
        "        return result\n",
        "    \n",
        "    def initialize_weights(self):\n",
        "        for param in self.impl.parameters():\n",
        "            if param.dim() > 1:\n",
        "                nn.init.xavier_uniform_(param)"
      ],
      "execution_count": 0,
      "outputs": []
    },
    {
      "cell_type": "code",
      "metadata": {
        "ExecuteTime": {
          "end_time": "2019-11-05T18:28:10.550078Z",
          "start_time": "2019-11-05T18:28:10.425261Z"
        },
        "id": "_mcuG5fsLRe0",
        "colab_type": "code",
        "colab": {}
      },
      "source": [
        "torch_transf_model = LanguageModel(tokenizer.vocab_size(),\n",
        "                                   256,\n",
        "                                   BatchFirstTransformerEncoder(\n",
        "                                       nn.TransformerEncoderLayer(\n",
        "                                           d_model=256,\n",
        "                                           nhead=16,\n",
        "                                           dim_feedforward=512,\n",
        "                                           dropout=0.1),\n",
        "                                       num_layers=3),\n",
        "                                   emb_dropout=0.1)\n",
        "print('Количество параметров', get_params_number(torch_transf_model))"
      ],
      "execution_count": 0,
      "outputs": []
    },
    {
      "cell_type": "code",
      "metadata": {
        "ExecuteTime": {
          "end_time": "2019-11-05T18:28:58.797642Z",
          "start_time": "2019-11-05T18:28:34.626744Z"
        },
        "id": "K_FaYKBXLRe4",
        "colab_type": "code",
        "colab": {}
      },
      "source": [
        "(best_val_loss,\n",
        " best_torch_transf_model) = train_eval_loop(torch_transf_model,\n",
        "                                            train_dataset,\n",
        "                                            test_dataset,\n",
        "                                            lm_cross_entropy,\n",
        "                                            lr=2e-3,\n",
        "                                            epoch_n=2000,\n",
        "                                            batch_size=8,\n",
        "                                            device='cuda',\n",
        "                                            early_stopping_patience=50,\n",
        "                                            max_batches_per_epoch_train=1000,\n",
        "                                            max_batches_per_epoch_val=1000,\n",
        "                                            lr_scheduler_ctor=lr_scheduler)"
      ],
      "execution_count": 0,
      "outputs": []
    },
    {
      "cell_type": "code",
      "metadata": {
        "ExecuteTime": {
          "end_time": "2019-11-05T18:29:00.752077Z",
          "start_time": "2019-11-05T18:29:00.675069Z"
        },
        "id": "DLRObL75LRe8",
        "colab_type": "code",
        "colab": {}
      },
      "source": [
        "# Если Вы запускаете ноутбук на colab, добавьте в начало пути /content/stepik-dl-nlp\n",
        "torch.save(best_torch_transf_model.state_dict(), './models/war_and_peace_torch_transf_best.pth')"
      ],
      "execution_count": 0,
      "outputs": []
    },
    {
      "cell_type": "code",
      "metadata": {
        "ExecuteTime": {
          "end_time": "2019-11-05T18:29:00.844033Z",
          "start_time": "2019-11-05T18:29:00.789023Z"
        },
        "id": "3vVSulwjLRfA",
        "colab_type": "code",
        "colab": {}
      },
      "source": [
        "# Если Вы запускаете ноутбук на colab, добавьте в начало пути /content/stepik-dl-nlp\n",
        "torch_transf_model.load_state_dict(torch.load('./models/war_and_peace_torch_transf_best.pth'))"
      ],
      "execution_count": 0,
      "outputs": []
    },
    {
      "cell_type": "markdown",
      "metadata": {
        "id": "-6qkk34ALRfG",
        "colab_type": "text"
      },
      "source": [
        "## Генерация текста с помощью языковой модели"
      ]
    },
    {
      "cell_type": "markdown",
      "metadata": {
        "id": "K3mmjPKuLRfH",
        "colab_type": "text"
      },
      "source": [
        "### Жадная генерация"
      ]
    },
    {
      "cell_type": "code",
      "metadata": {
        "ExecuteTime": {
          "end_time": "2019-11-05T18:29:02.366423Z",
          "start_time": "2019-11-05T18:29:02.329495Z"
        },
        "id": "jgZ1nv_GLRfJ",
        "colab_type": "code",
        "colab": {}
      },
      "source": [
        "greedy_generator = GreedyGenerator(torch_transf_model, tokenizer)"
      ],
      "execution_count": 0,
      "outputs": []
    },
    {
      "cell_type": "code",
      "metadata": {
        "ExecuteTime": {
          "end_time": "2019-11-05T18:29:03.175509Z",
          "start_time": "2019-11-05T18:29:02.921960Z"
        },
        "id": "q2NUXzcNLRfO",
        "colab_type": "code",
        "colab": {}
      },
      "source": [
        "%%time\n",
        "\n",
        "print(greedy_generator('сказала княжна, оглядывая Бона'))"
      ],
      "execution_count": 0,
      "outputs": []
    },
    {
      "cell_type": "code",
      "metadata": {
        "ExecuteTime": {
          "end_time": "2019-11-05T18:29:03.497702Z",
          "start_time": "2019-11-05T18:29:03.177598Z"
        },
        "id": "Aq67Y2goLRfV",
        "colab_type": "code",
        "colab": {}
      },
      "source": [
        "print(greedy_generator('смеялась княжна, оглядывая Наполе'))"
      ],
      "execution_count": 0,
      "outputs": []
    },
    {
      "cell_type": "code",
      "metadata": {
        "ExecuteTime": {
          "end_time": "2019-11-05T18:29:03.770265Z",
          "start_time": "2019-11-05T18:29:03.500330Z"
        },
        "id": "rMdkOeL0LRfZ",
        "colab_type": "code",
        "colab": {}
      },
      "source": [
        "print(greedy_generator('сказала княжна, оглядывая Кутуз'))"
      ],
      "execution_count": 0,
      "outputs": []
    },
    {
      "cell_type": "code",
      "metadata": {
        "ExecuteTime": {
          "end_time": "2019-11-05T18:29:04.150676Z",
          "start_time": "2019-11-05T18:29:03.773669Z"
        },
        "id": "Nih1FtL0LRfc",
        "colab_type": "code",
        "colab": {}
      },
      "source": [
        "print(greedy_generator('сказал Кутузов, оглядывая Наполеона'))"
      ],
      "execution_count": 0,
      "outputs": []
    },
    {
      "cell_type": "markdown",
      "metadata": {
        "id": "ag_qy-ElLRfl",
        "colab_type": "text"
      },
      "source": [
        "### Генерация с помощью лучевого поиска - Beam Search"
      ]
    },
    {
      "cell_type": "code",
      "metadata": {
        "ExecuteTime": {
          "end_time": "2019-11-05T18:29:08.328662Z",
          "start_time": "2019-11-05T18:29:08.294006Z"
        },
        "id": "rTtxtR6yLRfm",
        "colab_type": "code",
        "colab": {}
      },
      "source": [
        "beam_generator = BeamGenerator(torch_transf_model, tokenizer)"
      ],
      "execution_count": 0,
      "outputs": []
    },
    {
      "cell_type": "code",
      "metadata": {
        "ExecuteTime": {
          "end_time": "2019-11-05T18:29:10.573399Z",
          "start_time": "2019-11-05T18:29:09.653198Z"
        },
        "id": "pkYcL9meLRfp",
        "colab_type": "code",
        "colab": {}
      },
      "source": [
        "%%time\n",
        "\n",
        "beam_gen_variants = beam_generator('сказала княжна, оглядывая Наполе',\n",
        "                                   beamsize=5,\n",
        "                                   return_hypotheses_n=5)\n",
        "\n",
        "for score, pred_txt in beam_gen_variants:\n",
        "    print('****')\n",
        "    print(score)\n",
        "    print(pred_txt)\n",
        "    print()"
      ],
      "execution_count": 0,
      "outputs": []
    },
    {
      "cell_type": "code",
      "metadata": {
        "ExecuteTime": {
          "end_time": "2019-11-05T18:27:05.050342Z",
          "start_time": "2019-11-05T18:27:05.005Z"
        },
        "scrolled": false,
        "id": "Z0Qs_sjJLRfs",
        "colab_type": "code",
        "colab": {}
      },
      "source": [
        "%%time\n",
        "\n",
        "beam_gen_variants = beam_generator('сказала княжна, оглядывая Наполе',\n",
        "                                   beamsize=20,\n",
        "                                   return_hypotheses_n=20)\n",
        "\n",
        "for score, pred_txt in beam_gen_variants:\n",
        "    print('****')\n",
        "    print(score)\n",
        "    print(pred_txt)\n",
        "    print()"
      ],
      "execution_count": 0,
      "outputs": []
    },
    {
      "cell_type": "code",
      "metadata": {
        "ExecuteTime": {
          "end_time": "2019-11-05T18:27:05.051378Z",
          "start_time": "2019-11-05T18:27:05.008Z"
        },
        "id": "vTuvSlNwLRfv",
        "colab_type": "code",
        "colab": {}
      },
      "source": [
        "%%time\n",
        "\n",
        "beam_gen_variants = beam_generator('сказала княжна, оглядывая Наполе',\n",
        "                                   beamsize=100,\n",
        "                                   return_hypotheses_n=20)\n",
        "\n",
        "for score, pred_txt in beam_gen_variants:\n",
        "    print('****')\n",
        "    print(score)\n",
        "    print(pred_txt)\n",
        "    print()"
      ],
      "execution_count": 0,
      "outputs": []
    },
    {
      "cell_type": "markdown",
      "metadata": {
        "id": "GH2nda15LRfy",
        "colab_type": "text"
      },
      "source": [
        "## Собственная реализация MultiHeadAttention"
      ]
    },
    {
      "cell_type": "code",
      "metadata": {
        "ExecuteTime": {
          "end_time": "2019-11-05T18:29:13.586871Z",
          "start_time": "2019-11-05T18:29:13.544216Z"
        },
        "id": "0GDoBe3mLRf0",
        "colab_type": "code",
        "colab": {}
      },
      "source": [
        "def my_multihead_attention(queries, keys, values,\n",
        "                           keys_padding_mask, dependency_mask,\n",
        "                           is_training,\n",
        "                           weights_dropout):\n",
        "    \"\"\"\n",
        "    queries - BatchSize x ValuesLen x HeadN x KeySize\n",
        "    keys - BatchSize x KeysLen x HeadN x KeySize\n",
        "    values - BatchSize x KeysLen x HeadN x ValueSize\n",
        "    keys_padding_mask - BatchSize x KeysLen\n",
        "    dependency_mask - ValuesLen x KeysLen\n",
        "    is_training - bool\n",
        "    weights_dropout - float\n",
        "    \n",
        "    result - tuple of two:\n",
        "        - BatchSize x ValuesLen x HeadN x ValueSize - resulting features\n",
        "        - BatchSize x ValuesLen x KeysLen x HeadN - attention map\n",
        "    \"\"\"\n",
        "\n",
        "    # BatchSize x ValuesLen x KeysLen x HeadN\n",
        "    relevances = torch.einsum('bvhs,bkhs->bvkh', (queries, keys))\n",
        "    \n",
        "    # замаскировать элементы, выходящие за длины последовательностей ключей\n",
        "    padding_mask_expanded = keys_padding_mask[:, None, :, None].expand_as(relevances)\n",
        "    relevances.masked_fill_(padding_mask_expanded, float('-inf'))\n",
        "    \n",
        "    # замаскировать пары <выходная позиция, входная позиция>\n",
        "    relevances = relevances + dependency_mask[None, :, :, None].expand_as(relevances)\n",
        "    \n",
        "    normed_rels = F.softmax(relevances, dim=2)    \n",
        "    normed_rels = F.dropout(normed_rels, weights_dropout, is_training)\n",
        "    \n",
        "    # BatchSize x ValuesLen x KeysLen x HeadN x 1\n",
        "    normed_rels_expanded = normed_rels.unsqueeze(-1)\n",
        "    \n",
        "    # BatchSize x 1 x KeysLen x HeadN x ValueSize\n",
        "    values_expanded = values.unsqueeze(1)\n",
        "    \n",
        "    # BatchSize x ValuesLen x KeysLen x HeadN x ValueSize\n",
        "    weighted_values = normed_rels_expanded * values_expanded\n",
        "    result = weighted_values.sum(2)  # BatchSize x ValuesLen x HeadN x ValueSize\n",
        "    \n",
        "    return result, normed_rels"
      ],
      "execution_count": 0,
      "outputs": []
    },
    {
      "cell_type": "markdown",
      "metadata": {
        "id": "1VnBHEpLLRf5",
        "colab_type": "text"
      },
      "source": [
        "## Self-Attention - это Attention, в котором ключи, значения и запросы вычисляются из элементов одной и той же последовательности"
      ]
    },
    {
      "cell_type": "code",
      "metadata": {
        "ExecuteTime": {
          "end_time": "2019-11-05T18:29:14.090216Z",
          "start_time": "2019-11-05T18:29:14.064361Z"
        },
        "id": "xDvzYUlXLRf9",
        "colab_type": "code",
        "colab": {}
      },
      "source": [
        "class MyMultiheadSelfAttention(nn.Module):\n",
        "    def __init__(self, model_size, n_heads, dropout=0):\n",
        "        super().__init__()\n",
        "        assert model_size % n_heads == 0, 'Размерность модели должна делиться нацело на количество голов'\n",
        "        self.n_heads = n_heads\n",
        "\n",
        "        self.queries_proj = nn.Linear(model_size, model_size)\n",
        "        self.keys_proj = nn.Linear(model_size, model_size)\n",
        "        self.values_proj = nn.Linear(model_size, model_size)\n",
        "        \n",
        "        self.dropout = dropout\n",
        "\n",
        "        self.last_attention_map = None\n",
        "    \n",
        "    def forward(self, sequence, padding_mask, dependency_mask):\n",
        "        \"\"\"\n",
        "        sequence - BatchSize x Len x ModelSize\n",
        "        padding_mask - BatchSize x Len\n",
        "        dependency_mask - Len x Len\n",
        "        \n",
        "        result - BatchSize x Len x ModelSize\n",
        "        \"\"\"\n",
        "        batch_size, max_len, model_size = sequence.shape\n",
        "        \n",
        "        queries_flat = self.queries_proj(sequence)  # BatchSize x Len x ModelSize\n",
        "        queries = queries_flat.view(batch_size, max_len, self.n_heads, -1)\n",
        "        \n",
        "        keys_flat = self.keys_proj(sequence)  # BatchSize x Len x ModelSize\n",
        "        keys = keys_flat.view(batch_size, max_len, self.n_heads, -1)\n",
        "        \n",
        "        values_flat = self.values_proj(sequence)  # BatchSize x Len x ModelSize\n",
        "        values = values_flat.view(batch_size, max_len, self.n_heads, -1)\n",
        "        \n",
        "        # BatchSize x Len x HeadsN x ValueSize\n",
        "        result, att_map = my_multihead_attention(queries, keys, values,\n",
        "                                                 padding_mask, dependency_mask,\n",
        "                                                 self.training, self.dropout)\n",
        "        result_flat = result.view(batch_size, max_len, model_size)\n",
        "        \n",
        "        self.last_attention_map = att_map.detach()\n",
        "\n",
        "        return result_flat"
      ],
      "execution_count": 0,
      "outputs": []
    },
    {
      "cell_type": "markdown",
      "metadata": {
        "id": "oDjRfS82LRgB",
        "colab_type": "text"
      },
      "source": [
        "## Один слой трансформера - Self-Attention, Feed-Forward, skip-connections, LayerNorm"
      ]
    },
    {
      "cell_type": "code",
      "metadata": {
        "ExecuteTime": {
          "end_time": "2019-11-05T18:29:15.069352Z",
          "start_time": "2019-11-05T18:29:15.028453Z"
        },
        "id": "2nCCDiZnLRgC",
        "colab_type": "code",
        "colab": {}
      },
      "source": [
        "class MyTransformerEncoderLayer(nn.Module):\n",
        "    def __init__(self, model_size, n_heads, dim_feedforward, dropout):\n",
        "        super().__init__()\n",
        "        self.self_attention = MyMultiheadSelfAttention(model_size,\n",
        "                                                       n_heads,\n",
        "                                                       dropout=dropout)\n",
        "        self.first_dropout = nn.Dropout(dropout)\n",
        "        self.first_norm = nn.LayerNorm(model_size)\n",
        "        \n",
        "        self.feedforward = nn.Sequential(\n",
        "            nn.Linear(model_size, dim_feedforward),\n",
        "            nn.ReLU(),\n",
        "            nn.Dropout(dropout),\n",
        "            nn.Linear(dim_feedforward, model_size),\n",
        "            nn.Dropout(dropout)\n",
        "        )\n",
        "        self.second_norm = nn.LayerNorm(model_size)\n",
        "    \n",
        "    def forward(self, sequence, padding_mask, dependency_mask):\n",
        "        att_features = self.self_attention(sequence, padding_mask, dependency_mask)\n",
        "\n",
        "        sequence = sequence + self.first_dropout(att_features)\n",
        "        sequence = self.first_norm(sequence)\n",
        "        \n",
        "        sequence = sequence + self.feedforward(sequence)\n",
        "        sequence = self.second_norm(sequence)\n",
        "        return sequence"
      ],
      "execution_count": 0,
      "outputs": []
    },
    {
      "cell_type": "markdown",
      "metadata": {
        "id": "zmo8_67pLRgF",
        "colab_type": "text"
      },
      "source": [
        "## Энкодер Трансформера - стопка из нескольких слоёв"
      ]
    },
    {
      "cell_type": "code",
      "metadata": {
        "ExecuteTime": {
          "end_time": "2019-11-05T18:29:15.728916Z",
          "start_time": "2019-11-05T18:29:15.680640Z"
        },
        "id": "cN6SjgsYLRgG",
        "colab_type": "code",
        "colab": {}
      },
      "source": [
        "class MyTransformerEncoder(nn.Module):\n",
        "    def __init__(self, n_layers, **layer_kwargs):\n",
        "        super().__init__()\n",
        "        self.layers = nn.ModuleList([\n",
        "            MyTransformerEncoderLayer(**layer_kwargs)\n",
        "            for _ in range(n_layers)\n",
        "        ])\n",
        "        self.initialize_weights()\n",
        "\n",
        "    def forward(self, sequence, mask, src_key_padding_mask):\n",
        "        for layer in self.layers:\n",
        "            sequence = layer(sequence, src_key_padding_mask, mask)\n",
        "        return sequence\n",
        "\n",
        "    def initialize_weights(self):\n",
        "        for param in self.parameters():\n",
        "            if param.dim() > 1:\n",
        "                nn.init.xavier_uniform_(param)"
      ],
      "execution_count": 0,
      "outputs": []
    },
    {
      "cell_type": "markdown",
      "metadata": {
        "id": "thg3Wq1lLRgO",
        "colab_type": "text"
      },
      "source": [
        "## Попробуем обучить языковую модель с нашим Трансформером"
      ]
    },
    {
      "cell_type": "code",
      "metadata": {
        "ExecuteTime": {
          "end_time": "2019-11-05T18:29:18.531896Z",
          "start_time": "2019-11-05T18:29:18.460196Z"
        },
        "id": "l7sW6OjSLRgQ",
        "colab_type": "code",
        "colab": {}
      },
      "source": [
        "my_transf_model = LanguageModel(tokenizer.vocab_size(),\n",
        "                                256,\n",
        "                                MyTransformerEncoder(\n",
        "                                    n_layers=3,\n",
        "                                    model_size=256,\n",
        "                                    n_heads=16,\n",
        "                                    dim_feedforward=512,\n",
        "                                    dropout=0.1),\n",
        "                                emb_dropout=0.1)\n",
        "print('Количество параметров', get_params_number(my_transf_model))"
      ],
      "execution_count": 0,
      "outputs": []
    },
    {
      "cell_type": "code",
      "metadata": {
        "ExecuteTime": {
          "end_time": "2019-11-05T18:29:30.000482Z",
          "start_time": "2019-11-05T18:29:24.291741Z"
        },
        "scrolled": true,
        "id": "bITlX6TPLRgT",
        "colab_type": "code",
        "colab": {}
      },
      "source": [
        "(best_val_loss,\n",
        " best_my_transf_model) = train_eval_loop(my_transf_model,\n",
        "                                         train_dataset,\n",
        "                                         test_dataset,\n",
        "                                         lm_cross_entropy,\n",
        "                                         lr=2e-3,\n",
        "                                         epoch_n=2000,\n",
        "                                         batch_size=8,\n",
        "                                         device='cuda',\n",
        "                                         early_stopping_patience=50,\n",
        "                                         max_batches_per_epoch_train=1000,\n",
        "                                         max_batches_per_epoch_val=1000,\n",
        "                                         lr_scheduler_ctor=lr_scheduler)"
      ],
      "execution_count": 0,
      "outputs": []
    },
    {
      "cell_type": "code",
      "metadata": {
        "ExecuteTime": {
          "end_time": "2019-11-05T18:29:30.732005Z",
          "start_time": "2019-11-05T18:29:30.686738Z"
        },
        "id": "w_IGrqqRLRga",
        "colab_type": "code",
        "colab": {}
      },
      "source": [
        "# Если Вы запускаете ноутбук на colab, добавьте в начало пути /content/stepik-dl-nlp\n",
        "torch.save(best_my_transf_model.state_dict(), './models/war_and_peace_my_transf_best.pth')"
      ],
      "execution_count": 0,
      "outputs": []
    },
    {
      "cell_type": "code",
      "metadata": {
        "ExecuteTime": {
          "end_time": "2019-11-05T18:29:30.853057Z",
          "start_time": "2019-11-05T18:29:30.811442Z"
        },
        "id": "tdzJUb9WLRgf",
        "colab_type": "code",
        "colab": {}
      },
      "source": [
        "# Если Вы запускаете ноутбук на colab, добавьте в начало пути /content/stepik-dl-nlp\n",
        "my_transf_model.load_state_dict(torch.load('./models/war_and_peace_my_transf_best.pth'))"
      ],
      "execution_count": 0,
      "outputs": []
    },
    {
      "cell_type": "markdown",
      "metadata": {
        "id": "kSbSBMtpLRgj",
        "colab_type": "text"
      },
      "source": [
        "## Наша реализация - жадная генерация"
      ]
    },
    {
      "cell_type": "code",
      "metadata": {
        "ExecuteTime": {
          "end_time": "2019-11-05T18:29:31.862429Z",
          "start_time": "2019-11-05T18:29:31.841831Z"
        },
        "id": "3UpzZEDBLRgk",
        "colab_type": "code",
        "colab": {}
      },
      "source": [
        "my_greedy_generator = GreedyGenerator(my_transf_model, tokenizer)"
      ],
      "execution_count": 0,
      "outputs": []
    },
    {
      "cell_type": "code",
      "metadata": {
        "ExecuteTime": {
          "end_time": "2019-11-05T18:29:32.263263Z",
          "start_time": "2019-11-05T18:29:31.988891Z"
        },
        "id": "v7J5843XLRgo",
        "colab_type": "code",
        "colab": {}
      },
      "source": [
        "my_greedy_generator('сказала княжна, оглядывая Андре')"
      ],
      "execution_count": 0,
      "outputs": []
    },
    {
      "cell_type": "markdown",
      "metadata": {
        "id": "ET7Q-hdlLRgt",
        "colab_type": "text"
      },
      "source": [
        "## Визуализация карт внимания"
      ]
    },
    {
      "cell_type": "code",
      "metadata": {
        "ExecuteTime": {
          "end_time": "2019-11-05T18:29:33.644923Z",
          "start_time": "2019-11-05T18:29:33.614615Z"
        },
        "id": "YzJZtHorLRgu",
        "colab_type": "code",
        "colab": {}
      },
      "source": [
        "def plot_attention_maps(model, input_string, tokenizer, device='cuda', max_heads=2, figsize=(16, 10)):\n",
        "    device = torch.device(device)\n",
        "\n",
        "    token_ids = tokenizer.encode([input_string])[0]\n",
        "\n",
        "    token_strs = [tokenizer.id_to_subword(i) for i in token_ids]\n",
        "    in_len = len(token_ids)\n",
        "    ticks = np.arange(0, in_len)\n",
        "\n",
        "    model.to(device)\n",
        "    model.eval()\n",
        "\n",
        "    in_batch = torch.tensor(token_ids).unsqueeze(0).to(device)\n",
        "    model(in_batch)\n",
        "\n",
        "    for module in model.modules():\n",
        "        if isinstance(module, MyMultiheadSelfAttention):\n",
        "            cur_last_attention_map = module.last_attention_map[0].cpu().numpy()\n",
        "            n_heads = cur_last_attention_map.shape[-1]\n",
        "            n_heads_to_vis = min(n_heads, max_heads)\n",
        "\n",
        "            fig, axes = plt.subplots(1, n_heads_to_vis)\n",
        "            fig.set_size_inches(figsize)\n",
        "            for head_i in range(n_heads_to_vis):\n",
        "                ax = axes[head_i]\n",
        "                ax.imshow(cur_last_attention_map[..., head_i])\n",
        "\n",
        "                ax.set_yticks(ticks)\n",
        "                ax.set_ylim(bottom=in_len - 0.5, top=-0.5)\n",
        "                ax.set_yticklabels(token_strs)\n",
        "\n",
        "                ax.set_xticks(ticks)\n",
        "                ax.set_xticklabels(token_strs)"
      ],
      "execution_count": 0,
      "outputs": []
    },
    {
      "cell_type": "code",
      "metadata": {
        "ExecuteTime": {
          "end_time": "2019-11-05T18:29:34.935250Z",
          "start_time": "2019-11-05T18:29:33.745970Z"
        },
        "id": "fjsyDBdmLRgx",
        "colab_type": "code",
        "colab": {}
      },
      "source": [
        "plot_attention_maps(my_transf_model, 'сказал Кутузов, оглядывая Бонапарта', tokenizer)"
      ],
      "execution_count": 0,
      "outputs": []
    },
    {
      "cell_type": "code",
      "metadata": {
        "id": "aJMQadbZLRgz",
        "colab_type": "code",
        "colab": {}
      },
      "source": [
        ""
      ],
      "execution_count": 0,
      "outputs": []
    }
  ]
}